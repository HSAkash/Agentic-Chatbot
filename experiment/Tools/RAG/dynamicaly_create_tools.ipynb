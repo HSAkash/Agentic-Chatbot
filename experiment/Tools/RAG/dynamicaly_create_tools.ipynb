{
 "cells": [
  {
   "cell_type": "code",
   "execution_count": 10,
   "metadata": {},
   "outputs": [],
   "source": [
    "from langchain_core.tools import tool\n",
    "from pyprojroot import here\n",
    "from langchain_chroma import Chroma\n",
    "from langchain.embeddings import GPT4AllEmbeddings\n",
    "from accord.utils.common import get_config\n",
    "from accord.utils.file_loader import extract_text_content\n",
    "from glob import glob\n",
    "import os\n",
    "\n",
    "class RAGTool:\n",
    "    retriever = {}\n",
    "    tools = []\n",
    "\n",
    "    def __init__(self) -> None:\n",
    "        self.retriever = {}\n",
    "        self.config = get_config(f\"{here()}/configs/tools_config.yaml\")\n",
    "        self.embedding_model = GPT4AllEmbeddings()\n",
    "        self.create_retriever()\n",
    "        self.create_tools()\n",
    "\n",
    "    def create_tools(self):\n",
    "        RAGTool.tools = []\n",
    "        for key in RAGTool.retriever.keys():\n",
    "            info_file_path = os.path.join(\n",
    "                here(),\n",
    "                self.config.data_embedding.root_dir,\n",
    "                key,\n",
    "                self.config.data_embedding.info_doc_name\n",
    "            )\n",
    "            if not os.path.exists(info_file_path):\n",
    "                continue\n",
    "            tool_doc = extract_text_content(info_file_path)\n",
    "            if not tool_doc:\n",
    "                continue\n",
    "            \n",
    "            tool_doc = tool_doc[0].page_content.replace('\"', '\\\\\"')  # Escape double quotes\n",
    "\n",
    "            tool_name = key.replace(\" \", \"_\").replace(\"-\", \"_\")\n",
    "\n",
    "            tool_config = f\"\"\"\n",
    "from langchain_core.tools import tool\n",
    "\n",
    "@tool\n",
    "def {tool_name}(query: str) -> str:\n",
    "    \\\"\\\"\\\"{tool_doc}\\\"\\\"\\\"\n",
    "    relevant_docs = RAGTool.retriever[\"{key}\"].invoke(query)\n",
    "    return \"\\\\n\\\\n\".join([doc.page_content for doc in relevant_docs])\n",
    "\"\"\"\n",
    "            local_namespace = {}\n",
    "            exec(tool_config, globals(), local_namespace)\n",
    "            RAGTool.tools.append(local_namespace[tool_name])\n",
    "\n",
    "\n",
    "    def create_retriever(self):\n",
    "        for db_path in glob(f\"{here()}/{self.config.data_embedding.vectordb_dir}/*\"):\n",
    "            tool_name = os.path.basename(db_path)\n",
    "            vectordb = Chroma(\n",
    "                collection_name=self.config.data_embedding.collection_name,\n",
    "                persist_directory=db_path,\n",
    "                embedding_function=self.embedding_model\n",
    "            )\n",
    "            retriever = vectordb.as_retriever(\n",
    "                search_type=\"similarity_score_threshold\",\n",
    "                search_kwargs={\"k\": self.config.data_embedding.k, \"score_threshold\": 0.4},\n",
    "            )\n",
    "            RAGTool.retriever[tool_name] = retriever"
   ]
  },
  {
   "cell_type": "code",
   "execution_count": 13,
   "metadata": {},
   "outputs": [
    {
     "data": {
      "text/plain": [
       "<__main__.RAGTool at 0x75c411ffe840>"
      ]
     },
     "execution_count": 13,
     "metadata": {},
     "output_type": "execute_result"
    }
   ],
   "source": [
    "# Initialize and generate tools\n",
    "RAGTool()"
   ]
  },
  {
   "cell_type": "code",
   "execution_count": 14,
   "metadata": {},
   "outputs": [
    {
     "data": {
      "text/plain": [
       "[StructuredTool(name='test_doc', description='Search about Bangladesh and its details.\\nAlso have some information git repo RAG-DeepSeek-r1', args_schema=<class 'langchain_core.utils.pydantic.test_doc'>, func=<function test_doc at 0x75c40906a5c0>),\n",
       " StructuredTool(name='swiss_airline_policy', description='Consult the company policies to check whether certain options are permitted.', args_schema=<class 'langchain_core.utils.pydantic.swiss_airline_policy'>, func=<function swiss_airline_policy at 0x75c40906bba0>),\n",
       " StructuredTool(name='stories', description='Search among the fictional stories and find the answer to the query. Input should be the query.', args_schema=<class 'langchain_core.utils.pydantic.stories'>, func=<function stories at 0x75c40906ae80>)]"
      ]
     },
     "execution_count": 14,
     "metadata": {},
     "output_type": "execute_result"
    }
   ],
   "source": [
    "RAGTool.tools"
   ]
  },
  {
   "cell_type": "code",
   "execution_count": null,
   "metadata": {},
   "outputs": [],
   "source": [
    "query = \"population of bangladesh\"\n",
    "response = RAGTool.tools[0](query)  # Call the first dynamically created tool\n",
    "\n",
    "print(response)"
   ]
  },
  {
   "cell_type": "code",
   "execution_count": null,
   "metadata": {},
   "outputs": [],
   "source": []
  }
 ],
 "metadata": {
  "kernelspec": {
   "display_name": "env",
   "language": "python",
   "name": "python3"
  },
  "language_info": {
   "codemirror_mode": {
    "name": "ipython",
    "version": 3
   },
   "file_extension": ".py",
   "mimetype": "text/x-python",
   "name": "python",
   "nbconvert_exporter": "python",
   "pygments_lexer": "ipython3",
   "version": "3.12.3"
  }
 },
 "nbformat": 4,
 "nbformat_minor": 2
}
